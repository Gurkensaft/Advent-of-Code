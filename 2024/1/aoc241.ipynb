{
 "cells": [
  {
   "cell_type": "code",
   "execution_count": 7,
   "metadata": {},
   "outputs": [],
   "source": [
    "import numpy as np\n",
    "import pandas as pd\n",
    "import os\n",
    "\n",
    "with open('input.txt') as f:\n",
    "    data = f.read()\n",
    "    lines = data.split('\\n')\n",
    "    values = [value.split('   ')for value in lines]\n",
    "res = np.array(values, dtype=np.int32)"
   ]
  },
  {
   "cell_type": "code",
   "execution_count": 8,
   "metadata": {},
   "outputs": [],
   "source": [
    "df = pd.DataFrame(res, columns=['A', 'B'],dtype=np.int32)\n",
    "df2 = df.copy()"
   ]
  },
  {
   "cell_type": "code",
   "execution_count": 9,
   "metadata": {},
   "outputs": [
    {
     "data": {
      "text/plain": [
       "2375403.0"
      ]
     },
     "execution_count": 9,
     "metadata": {},
     "output_type": "execute_result"
    }
   ],
   "source": [
    "sum_of_dist = 0\n",
    "for i in range(1000):\n",
    "    idx_min1 = df['A'].idxmin()\n",
    "    idx_min2 = df['B'].idxmin()\n",
    "    min1 = df['A'].min()\n",
    "    min2 = df['B'].min()\n",
    "    sum_of_dist += abs(min1 - min2)\n",
    "    df.loc[idx_min1, 'A'] = np.nan\n",
    "    df.loc[idx_min2, 'B'] = np.nan\n",
    "sum_of_dist"
   ]
  },
  {
   "cell_type": "code",
   "execution_count": null,
   "metadata": {},
   "outputs": [],
   "source": []
  },
  {
   "cell_type": "code",
   "execution_count": 10,
   "metadata": {},
   "outputs": [
    {
     "data": {
      "text/plain": [
       "0"
      ]
     },
     "execution_count": 10,
     "metadata": {},
     "output_type": "execute_result"
    }
   ],
   "source": [
    "df2['B'].value_counts().get(df2['A'].iloc[9],0)"
   ]
  },
  {
   "cell_type": "code",
   "execution_count": 13,
   "metadata": {},
   "outputs": [
    {
     "data": {
      "text/plain": [
       "23082277.0"
      ]
     },
     "execution_count": 13,
     "metadata": {},
     "output_type": "execute_result"
    }
   ],
   "source": [
    "sum_of_sim = 0\n",
    "\n",
    "for i in range(1000):\n",
    "    df2.loc[i,'sim1'] = df2['B'].value_counts().get(df2['A'].iloc[i],0)*df2['A'].iloc[i]\n",
    "    \n",
    "sum_of_sim = df2['sim1'].sum() \n",
    "sum_of_sim  "
   ]
  },
  {
   "cell_type": "code",
   "execution_count": 14,
   "metadata": {},
   "outputs": [
    {
     "data": {
      "text/plain": [
       "0           0.0\n",
       "1           0.0\n",
       "2           0.0\n",
       "3           0.0\n",
       "4           0.0\n",
       "         ...   \n",
       "995         0.0\n",
       "996         0.0\n",
       "997         0.0\n",
       "998         0.0\n",
       "999    188840.0\n",
       "Name: sim1, Length: 1000, dtype: float64"
      ]
     },
     "execution_count": 14,
     "metadata": {},
     "output_type": "execute_result"
    }
   ],
   "source": [
    "df2['sim1']"
   ]
  }
 ],
 "metadata": {
  "kernelspec": {
   "display_name": "魂",
   "language": "python",
   "name": "python3"
  },
  "language_info": {
   "codemirror_mode": {
    "name": "ipython",
    "version": 3
   },
   "file_extension": ".py",
   "mimetype": "text/x-python",
   "name": "python",
   "nbconvert_exporter": "python",
   "pygments_lexer": "ipython3",
   "version": "3.12.3"
  }
 },
 "nbformat": 4,
 "nbformat_minor": 2
}
