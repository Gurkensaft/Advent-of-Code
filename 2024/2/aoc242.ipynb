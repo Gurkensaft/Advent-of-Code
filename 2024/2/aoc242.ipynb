{
 "cells": [
  {
   "cell_type": "code",
   "execution_count": 25,
   "metadata": {},
   "outputs": [
    {
     "name": "stdout",
     "output_type": "stream",
     "text": [
      "296\n"
     ]
    }
   ],
   "source": [
    "import pandas as pd\n",
    "import numpy as np\n",
    "import os\n",
    "\n",
    "with open('input.txt') as f:\n",
    "    lines = f.read()\n",
    "    lines = lines.split('\\n')\n",
    "    lines = [line.split(' ') for line in lines]\n",
    "\n",
    "def checkReportValidity(line):\n",
    "    dec = True\n",
    "    inc = True\n",
    "    doub = True\n",
    "    dec_damp = 0\n",
    "    inc_damp = 0\n",
    "    diff_damp = 0 \n",
    "\n",
    "    for i in range(len(line)-1):\n",
    "        diff = int(line[i+1]) - int(line[i])\n",
    "\n",
    "        if diff <= -1 and diff >= -3:\n",
    "            inc_damp += 1\n",
    "            if inc_damp > 1:\n",
    "                inc = False\n",
    "\n",
    "        if (diff >= 1 and diff <= 3):\n",
    "            dec_damp += 1\n",
    "            if dec_damp > 1:\n",
    "                dec = False\n",
    "\n",
    "        if diff == 0 :\n",
    "            diff_damp += 1\n",
    "            if diff_damp > 1:\n",
    "                doub = False\n",
    "                \n",
    "    if dec and doub and (diff_damp+dec_damp)<=1:\n",
    "        return True\n",
    "    \n",
    "    if inc and doub and (diff_damp+inc_damp)<=1:\n",
    "        return True\n",
    "\n",
    "    return False\n",
    "    \n",
    "        \n",
    "count = 0\n",
    "for line in lines:\n",
    "    if checkReportValidity(line):\n",
    "        count += 1\n",
    "\n",
    "print(count)"
   ]
  },
  {
   "cell_type": "code",
   "execution_count": 30,
   "metadata": {},
   "outputs": [
    {
     "name": "stdout",
     "output_type": "stream",
     "text": [
      "290\n"
     ]
    }
   ],
   "source": [
    "def is_safe(line):\n",
    "    inc = [int(line[i + 1]) - int(line[i]) for i in range(len(line) - 1)]\n",
    "    if set(inc) <= {1, 2, 3} or set(inc) <= {-1, -2, -3}:\n",
    "        return True\n",
    "    return False\n",
    "\n",
    "safe_count = sum([any([is_safe(line[:i] + line[i + 1:]) for i in range(len(line))]) for line in lines])\n",
    "print(safe_count)"
   ]
  }
 ],
 "metadata": {
  "kernelspec": {
   "display_name": "Python 3",
   "language": "python",
   "name": "python3"
  },
  "language_info": {
   "codemirror_mode": {
    "name": "ipython",
    "version": 3
   },
   "file_extension": ".py",
   "mimetype": "text/x-python",
   "name": "python",
   "nbconvert_exporter": "python",
   "pygments_lexer": "ipython3",
   "version": "3.10.6"
  }
 },
 "nbformat": 4,
 "nbformat_minor": 2
}
