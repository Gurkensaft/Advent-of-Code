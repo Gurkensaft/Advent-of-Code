{
 "cells": [
  {
   "cell_type": "code",
   "execution_count": 32,
   "metadata": {},
   "outputs": [
    {
     "data": {
      "text/plain": [
       "173517243"
      ]
     },
     "execution_count": 32,
     "metadata": {},
     "output_type": "execute_result"
    }
   ],
   "source": [
    "import pandas as pd\n",
    "import numpy as np\n",
    "import os\n",
    "import re\n",
    "\n",
    "with open('input.txt') as f:\n",
    "    data = f.read()\n",
    "\n",
    "\n",
    "pattern = re.compile(r'mul\\((\\d+),(\\d+)\\)')\n",
    "number_lines = pattern.findall(data)\n",
    "\n",
    "def mul(a, b):\n",
    "    return int(a) * int(b)\n",
    "\n",
    "result = 0\n",
    "for a, b in number_lines:\n",
    "    result += mul(a, b)\n",
    "result\n"
   ]
  },
  {
   "cell_type": "code",
   "execution_count": 46,
   "metadata": {},
   "outputs": [
    {
     "data": {
      "text/plain": [
       "100450138"
      ]
     },
     "execution_count": 46,
     "metadata": {},
     "output_type": "execute_result"
    }
   ],
   "source": [
    "\n",
    "segments = data.split('do')\n",
    "\n",
    "result = 0\n",
    "\n",
    "numbers = pattern.findall(segments[0])\n",
    "for a, b in numbers:\n",
    "    result += mul(a, b)\n",
    "    \n",
    "for segment in segments[1:]:\n",
    "    \n",
    "    if segment[:3]=='n\\'t':\n",
    "        continue\n",
    "    elif segment[:2]=='()':\n",
    "        numbers = pattern.findall(segment)\n",
    "        for a, b in numbers:\n",
    "            result += mul(a, b)\n",
    "result"
   ]
  }
 ],
 "metadata": {
  "kernelspec": {
   "display_name": "Python 3",
   "language": "python",
   "name": "python3"
  },
  "language_info": {
   "codemirror_mode": {
    "name": "ipython",
    "version": 3
   },
   "file_extension": ".py",
   "mimetype": "text/x-python",
   "name": "python",
   "nbconvert_exporter": "python",
   "pygments_lexer": "ipython3",
   "version": "3.10.6"
  }
 },
 "nbformat": 4,
 "nbformat_minor": 2
}
