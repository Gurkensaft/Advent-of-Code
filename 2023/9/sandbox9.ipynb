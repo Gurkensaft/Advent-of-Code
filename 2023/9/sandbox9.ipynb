{
 "cells": [
  {
   "cell_type": "code",
   "execution_count": 1,
   "metadata": {},
   "outputs": [],
   "source": [
    "input = open('input.txt').read().split('\\n')\n",
    "input = [i.split(' ') for i in input]"
   ]
  },
  {
   "cell_type": "code",
   "execution_count": 2,
   "metadata": {},
   "outputs": [],
   "source": [
    "def get_pred(numbs):\n",
    "    if all(numb == 0 for numb in numbs):\n",
    "        return 0\n",
    "    new_numbs = [numbs[i+1]-numbs[i] for i in range(len(numbs)-1)]\n",
    "    return numbs[-1] + get_pred(new_numbs) "
   ]
  },
  {
   "cell_type": "code",
   "execution_count": 3,
   "metadata": {},
   "outputs": [],
   "source": [
    "results = []\n",
    "for line in input:\n",
    "    numbs = [int(i) for i in line]\n",
    "    results.append(get_pred(numbs))\n",
    "    sum(results)"
   ]
  },
  {
   "cell_type": "code",
   "execution_count": 5,
   "metadata": {},
   "outputs": [
    {
     "data": {
      "text/plain": [
       "1016"
      ]
     },
     "execution_count": 5,
     "metadata": {},
     "output_type": "execute_result"
    }
   ],
   "source": [
    "results = []\n",
    "for line in input:\n",
    "    numbs = [int(i) for i in line]\n",
    "    results.append(get_pred(numbs[::-1]))\n",
    "sum(results)"
   ]
  }
 ],
 "metadata": {
  "kernelspec": {
   "display_name": "DeepKALE",
   "language": "python",
   "name": "python3"
  },
  "language_info": {
   "codemirror_mode": {
    "name": "ipython",
    "version": 3
   },
   "file_extension": ".py",
   "mimetype": "text/x-python",
   "name": "python",
   "nbconvert_exporter": "python",
   "pygments_lexer": "ipython3",
   "version": "3.11.4"
  }
 },
 "nbformat": 4,
 "nbformat_minor": 2
}
