{
 "cells": [
  {
   "cell_type": "code",
   "execution_count": 10,
   "metadata": {},
   "outputs": [],
   "source": [
    "import re \n",
    "import numpy as np\n",
    "almanac = open('almanach.txt').read()"
   ]
  },
  {
   "cell_type": "code",
   "execution_count": 11,
   "metadata": {},
   "outputs": [],
   "source": [
    "file = open('almanach.txt').read().strip()\n",
    "\n",
    "parts = file.split('\\n\\n')\n",
    "seed, *to = parts\n",
    "seed = [int(x) for x in seed.split(':')[1].split()]\n",
    "\n",
    "class Plantation:\n",
    "  def __init__(self, S):\n",
    "    lines = S.split('\\n')[1:] \n",
    "    self.tuples: list[tuple[int,int,int]] = [[int(x) for x in line.split()] for line in lines]\n",
    "\n",
    "  def translateTo(self, x: int) -> int:\n",
    "    for (dst, src, step) in self.tuples:\n",
    "      if src<=x<src+step:\n",
    "        return x+dst-src\n",
    "    return x\n",
    "  \n",
    "  def translateTo_many(self, seed_range):\n",
    "    res = []\n",
    "    for (dest, src, step) in self.tuples:\n",
    "      src_end = src+step\n",
    "      new_range = []\n",
    "      while seed_range:\n",
    "        (start,end) = seed_range.pop()\n",
    "        before = (start,min(end,src))\n",
    "        inter = (max(start, src), min(src_end, end))\n",
    "        after = (max(src_end, start), end)\n",
    "\n",
    "        if before[1]>before[0]:\n",
    "          new_range.append(before)\n",
    "\n",
    "        if inter[1]>inter[0]:\n",
    "          res.append((inter[0]-src+dest, inter[1]-src+dest))\n",
    "\n",
    "        if after[1]>after[0]:\n",
    "          new_range.append(after)\n",
    "      seed_range = new_range\n",
    "    return res+seed_range\n",
    "\n",
    "plants = [Plantation(part) for part in to]"
   ]
  },
  {
   "cell_type": "code",
   "execution_count": 12,
   "metadata": {},
   "outputs": [
    {
     "name": "stdout",
     "output_type": "stream",
     "text": [
      "175622908\n"
     ]
    }
   ],
   "source": [
    "P1 = []\n",
    "for x in seed:\n",
    "  for f in plants:\n",
    "    x = f.translateTo(x)\n",
    "  P1.append(x)\n",
    "print(min(P1))"
   ]
  },
  {
   "cell_type": "code",
   "execution_count": 13,
   "metadata": {},
   "outputs": [
    {
     "name": "stdout",
     "output_type": "stream",
     "text": [
      "5200543\n"
     ]
    }
   ],
   "source": [
    "\n",
    "P2 = []\n",
    "pairs = list(zip(seed[::2], seed[1::2]))\n",
    "for st, sz in pairs:\n",
    "  seed_range = [(st, st+sz)]\n",
    "  for f in plants:\n",
    "    seed_range = f.translateTo_many(seed_range)\n",
    "  P2.append(min(seed_range)[0])\n",
    "print(min(P2))"
   ]
  }
 ],
 "metadata": {
  "kernelspec": {
   "display_name": "DeepKALE",
   "language": "python",
   "name": "python3"
  },
  "language_info": {
   "codemirror_mode": {
    "name": "ipython",
    "version": 3
   },
   "file_extension": ".py",
   "mimetype": "text/x-python",
   "name": "python",
   "nbconvert_exporter": "python",
   "pygments_lexer": "ipython3",
   "version": "3.11.4"
  }
 },
 "nbformat": 4,
 "nbformat_minor": 2
}
