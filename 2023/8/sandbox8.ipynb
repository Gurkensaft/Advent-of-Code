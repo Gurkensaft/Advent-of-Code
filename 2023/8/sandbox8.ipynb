{
 "cells": [
  {
   "cell_type": "code",
   "execution_count": 23,
   "metadata": {},
   "outputs": [],
   "source": [
    "import re \n",
    "import math\n",
    "input = open(\"input.txt\", \"r\").read().split(\"\\n\\n\")\n",
    "seq = input[0]  \n",
    "rules = input[1].split(\"\\n\")"
   ]
  },
  {
   "cell_type": "code",
   "execution_count": 15,
   "metadata": {},
   "outputs": [],
   "source": [
    "test = rules[0].split(\" \")\n",
    "src = {}\n",
    "for rule in rules:\n",
    "    rule = rule.split(\" \")\n",
    "    src[rule[0]] = (rule[2][1:4],rule[3][0:3])\n"
   ]
  },
  {
   "cell_type": "code",
   "execution_count": 21,
   "metadata": {},
   "outputs": [
    {
     "name": "stdout",
     "output_type": "stream",
     "text": [
      "18827\n"
     ]
    }
   ],
   "source": [
    "steps = 0\n",
    "start = 'AAA'\n",
    "while start != 'ZZZ':\n",
    "    direction = seq[steps%len(seq)]\n",
    "    steps += 1\n",
    "    start = src[start][0 if direction=='L' else 1]\n",
    "\n",
    "print(steps)"
   ]
  },
  {
   "cell_type": "code",
   "execution_count": 24,
   "metadata": {},
   "outputs": [
    {
     "name": "stdout",
     "output_type": "stream",
     "text": [
      "20220305520997\n"
     ]
    }
   ],
   "source": [
    "def get_steps(pos):\n",
    "    steps = 0\n",
    "    start = pos\n",
    "    while not start.endswith('Z'):\n",
    "        direction = seq[steps%len(seq)]\n",
    "        steps += 1\n",
    "        start = src[start][0 if direction=='L' else 1]\n",
    "    return steps\n",
    "ret = 1\n",
    "for start in src:\n",
    "\tif start.endswith('A'):\n",
    "\t\tret = math.lcm(ret, get_steps(start))\n",
    "print(ret)"
   ]
  }
 ],
 "metadata": {
  "kernelspec": {
   "display_name": "DeepKALE",
   "language": "python",
   "name": "python3"
  },
  "language_info": {
   "codemirror_mode": {
    "name": "ipython",
    "version": 3
   },
   "file_extension": ".py",
   "mimetype": "text/x-python",
   "name": "python",
   "nbconvert_exporter": "python",
   "pygments_lexer": "ipython3",
   "version": "3.11.4"
  }
 },
 "nbformat": 4,
 "nbformat_minor": 2
}
