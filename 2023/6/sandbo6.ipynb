{
 "cells": [
  {
   "cell_type": "code",
   "execution_count": 19,
   "metadata": {},
   "outputs": [
    {
     "data": {
      "text/plain": [
       "[['53', '83', '72', '88'], ['333', '1635', '1289', '1532']]"
      ]
     },
     "execution_count": 19,
     "metadata": {},
     "output_type": "execute_result"
    }
   ],
   "source": [
    "import re\n",
    "races = open('input.txt').read().splitlines()\n",
    "races = [re.findall(r'\\d+',combs.split(':')[1].strip()) for combs in races]\n",
    "races "
   ]
  },
  {
   "cell_type": "code",
   "execution_count": 20,
   "metadata": {},
   "outputs": [],
   "source": [
    "def func1(x,x_max):\n",
    "    hold_time = int(x)\n",
    "    drive_time = x_max - int(x)\n",
    "    return hold_time * drive_time"
   ]
  },
  {
   "cell_type": "code",
   "execution_count": 11,
   "metadata": {},
   "outputs": [],
   "source": [
    "times = races[0]\n",
    "dists = races[1]\n",
    "best_races = []\n",
    "for combs in zip(times,dists):\n",
    "    time = int(combs[0])\n",
    "    dist = int(combs[1])\n",
    "    counter = 0\n",
    "    for i in range(time):\n",
    "        if func1(i,time) > dist:\n",
    "            counter += 1\n",
    "    best_races.append(counter)"
   ]
  },
  {
   "cell_type": "code",
   "execution_count": 13,
   "metadata": {},
   "outputs": [
    {
     "data": {
      "text/plain": [
       "140220"
      ]
     },
     "execution_count": 13,
     "metadata": {},
     "output_type": "execute_result"
    }
   ],
   "source": [
    "res = best_races[0]\n",
    "for num in best_races[1:]:\n",
    "    res *= num\n",
    "res"
   ]
  },
  {
   "cell_type": "code",
   "execution_count": 24,
   "metadata": {},
   "outputs": [],
   "source": [
    "new_times = times[0] \n",
    "new_dists = dists[0]\n",
    "\n",
    "for i in range(1,len(times)):\n",
    "    new_times += times[i] \n",
    "    new_dists += dists[i]"
   ]
  },
  {
   "cell_type": "code",
   "execution_count": 25,
   "metadata": {},
   "outputs": [
    {
     "name": "stdout",
     "output_type": "stream",
     "text": [
      "53837288 333163512891532\n"
     ]
    }
   ],
   "source": [
    "print(new_times,new_dists)"
   ]
  },
  {
   "cell_type": "code",
   "execution_count": 26,
   "metadata": {},
   "outputs": [
    {
     "data": {
      "text/plain": [
       "39570185"
      ]
     },
     "execution_count": 26,
     "metadata": {},
     "output_type": "execute_result"
    }
   ],
   "source": [
    "time = int(new_times)\n",
    "dist = int(new_dists)\n",
    "best_races = []\n",
    "counter = 0\n",
    "for i in range(time):\n",
    "    if func1(i,time) > dist:\n",
    "        counter += 1\n",
    "counter"
   ]
  }
 ],
 "metadata": {
  "kernelspec": {
   "display_name": "DeepKALE",
   "language": "python",
   "name": "python3"
  },
  "language_info": {
   "codemirror_mode": {
    "name": "ipython",
    "version": 3
   },
   "file_extension": ".py",
   "mimetype": "text/x-python",
   "name": "python",
   "nbconvert_exporter": "python",
   "pygments_lexer": "ipython3",
   "version": "3.11.4"
  }
 },
 "nbformat": 4,
 "nbformat_minor": 2
}
