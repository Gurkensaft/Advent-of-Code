{
 "cells": [
  {
   "cell_type": "code",
   "execution_count": 1,
   "metadata": {},
   "outputs": [],
   "source": [
    "games = open('games.txt', 'r').readlines()"
   ]
  },
  {
   "cell_type": "code",
   "execution_count": 2,
   "metadata": {},
   "outputs": [],
   "source": [
    "configs = [game.split(':')[1] for game in games]"
   ]
  },
  {
   "cell_type": "code",
   "execution_count": 3,
   "metadata": {},
   "outputs": [],
   "source": [
    "rounds = [config.split(';') for config in configs]"
   ]
  },
  {
   "cell_type": "code",
   "execution_count": 4,
   "metadata": {},
   "outputs": [],
   "source": [
    "import re \n",
    "MAX_RED = 12\n",
    "MAX_BLUE = 14\n",
    "MAX_GREEN = 13"
   ]
  },
  {
   "cell_type": "code",
   "execution_count": 5,
   "metadata": {},
   "outputs": [],
   "source": [
    "res = 0\n",
    "round_count = 0\n",
    "for round in rounds:\n",
    "    min_red = 0\n",
    "    min_blue = 0\n",
    "    min_green = 0\n",
    "    round_count += 1\n",
    "    pull_valid = True\n",
    "    for pulls in round:\n",
    "        values = pulls.split(',')\n",
    "        for single_value in values:\n",
    "            if re.search('red', single_value):\n",
    "                numb = int(single_value.split(' ')[1])\n",
    "                if numb > MAX_RED:\n",
    "                    pull_valid = False\n",
    "            if re.search('blue', single_value):\n",
    "                numb = int(single_value.split(' ')[1])\n",
    "                if numb > MAX_BLUE:\n",
    "                    pull_valid = False\n",
    "            if re.search('green', single_value):\n",
    "                numb = int(single_value.split(' ')[1])\n",
    "                if numb > MAX_GREEN:\n",
    "                    pull_valid = False\n",
    "    if pull_valid:\n",
    "        res += round_count"
   ]
  },
  {
   "cell_type": "code",
   "execution_count": 11,
   "metadata": {},
   "outputs": [],
   "source": [
    "res = 0\n",
    "round_count = 0\n",
    "for round in rounds:\n",
    "    min_red = 0\n",
    "    min_blue = 0\n",
    "    min_green = 0\n",
    "    round_count += 1\n",
    "    pull_valid = True\n",
    "    for pulls in round:\n",
    "        values = pulls.split(',')\n",
    "        for single_value in values:\n",
    "            if re.search('red', single_value):\n",
    "                numb = int(single_value.split(' ')[1])\n",
    "                if numb > min_red:\n",
    "                    min_red = numb\n",
    "            if re.search('blue', single_value):\n",
    "                numb = int(single_value.split(' ')[1])\n",
    "                if numb > min_blue:\n",
    "                    min_blue = numb\n",
    "            if re.search('green', single_value):\n",
    "                numb = int(single_value.split(' ')[1])\n",
    "                if numb > min_green:\n",
    "                    min_green = numb\n",
    "    if pull_valid:\n",
    "        res += min_red * min_blue * min_green"
   ]
  },
  {
   "cell_type": "code",
   "execution_count": 12,
   "metadata": {},
   "outputs": [
    {
     "data": {
      "text/plain": [
       "72227"
      ]
     },
     "execution_count": 12,
     "metadata": {},
     "output_type": "execute_result"
    }
   ],
   "source": [
    "res"
   ]
  }
 ],
 "metadata": {
  "kernelspec": {
   "display_name": "DeepKALE",
   "language": "python",
   "name": "python3"
  },
  "language_info": {
   "codemirror_mode": {
    "name": "ipython",
    "version": 3
   },
   "file_extension": ".py",
   "mimetype": "text/x-python",
   "name": "python",
   "nbconvert_exporter": "python",
   "pygments_lexer": "ipython3",
   "version": "3.11.4"
  }
 },
 "nbformat": 4,
 "nbformat_minor": 2
}
