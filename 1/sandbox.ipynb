{
 "cells": [
  {
   "cell_type": "code",
   "execution_count": 5,
   "metadata": {},
   "outputs": [],
   "source": [
    "lines = open('calib.txt', 'r').readlines()"
   ]
  },
  {
   "cell_type": "code",
   "execution_count": 6,
   "metadata": {},
   "outputs": [],
   "source": [
    "import re\n",
    "number_map = {\"one\": 1, \"two\": 2, \"three\": 3, \"four\": 4, \"five\": 5, \"six\": 6, \"seven\": 7, \"eight\": 8, \"nine\": 9}"
   ]
  },
  {
   "cell_type": "code",
   "execution_count": 7,
   "metadata": {},
   "outputs": [],
   "source": [
    "digits = []\n",
    "for line in lines:\n",
    "    line_digits = re.findall(r'(?=(\\d|one|two|three|four|five|six|seven|eight|nine))', line)\n",
    "    if len(line_digits) == 1:\n",
    "        digits.append([line_digits[0], line_digits[0]])\n",
    "    else:\n",
    "        digits.append([line_digits[0], line_digits[-1]])"
   ]
  },
  {
   "cell_type": "code",
   "execution_count": 8,
   "metadata": {},
   "outputs": [],
   "source": [
    "final_digits = []\n",
    "for digit in digits:\n",
    "\n",
    "   if digit[0] in number_map.keys():\n",
    "      number_one = number_map[digit[0]]\n",
    "   else:\n",
    "      number_one = int(digit[0])\n",
    "\n",
    "   if digit[1] in number_map.keys():\n",
    "      number_two = number_map[digit[1]]\n",
    "   else: \n",
    "      number_two = int(digit[1])\n",
    "      \n",
    "   final_num = str(number_one) + str(number_two)\n",
    "   final_digits.append(final_num)"
   ]
  },
  {
   "cell_type": "code",
   "execution_count": 9,
   "metadata": {},
   "outputs": [],
   "source": [
    "sum = 0\n",
    "for final in final_digits:\n",
    "    sum += int(final)\n"
   ]
  },
  {
   "cell_type": "code",
   "execution_count": 10,
   "metadata": {},
   "outputs": [
    {
     "data": {
      "text/plain": [
       "54473"
      ]
     },
     "execution_count": 10,
     "metadata": {},
     "output_type": "execute_result"
    }
   ],
   "source": [
    "sum"
   ]
  }
 ],
 "metadata": {
  "kernelspec": {
   "display_name": "DeepKALE",
   "language": "python",
   "name": "python3"
  },
  "language_info": {
   "codemirror_mode": {
    "name": "ipython",
    "version": 3
   },
   "file_extension": ".py",
   "mimetype": "text/x-python",
   "name": "python",
   "nbconvert_exporter": "python",
   "pygments_lexer": "ipython3",
   "version": "3.11.4"
  }
 },
 "nbformat": 4,
 "nbformat_minor": 2
}
