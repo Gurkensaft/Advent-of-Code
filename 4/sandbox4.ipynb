{
 "cells": [
  {
   "cell_type": "code",
   "execution_count": null,
   "metadata": {},
   "outputs": [],
   "source": [
    "import re\n",
    "cards = open('cards.txt').read().splitlines()\n",
    "cards = [card.split(':')[1] for card in cards]\n",
    "cards = [card.split('|') for card in cards]"
   ]
  },
  {
   "cell_type": "code",
   "execution_count": null,
   "metadata": {},
   "outputs": [],
   "source": [
    "test = ' 24 12 26 39 19 98 74 16 82 77 '\n",
    "list = re.findall(r'\\d+', test)\n",
    "list"
   ]
  },
  {
   "cell_type": "code",
   "execution_count": null,
   "metadata": {},
   "outputs": [],
   "source": [
    "for card in cards:\n",
    "    card[0] = re.findall(r'\\d+', card[0])\n",
    "    card[1] = re.findall(r'\\d+', card[1])"
   ]
  },
  {
   "cell_type": "code",
   "execution_count": null,
   "metadata": {},
   "outputs": [],
   "source": [
    "#part 1\n",
    "sum = 0\n",
    "for card in cards:\n",
    "    occ = len(set(card[0]).intersection(card[1]))\n",
    "    if occ == 1:\n",
    "        sum += 1\n",
    "    elif occ > 1:\n",
    "        sum += 2**(len(set(card[0]).intersection(card[1]))-1)\n",
    "sum"
   ]
  },
  {
   "cell_type": "code",
   "execution_count": null,
   "metadata": {},
   "outputs": [],
   "source": [
    "#part 2 (ugly)\n",
    "sum_cards = [1 for j in range (len(cards))]\n",
    "for i,card in enumerate(cards):\n",
    "    occ = len(set(card[0]).intersection(card[1]))\n",
    "    if occ > 0:\n",
    "        for times in range(sum_cards[i]):\n",
    "            for j in range(occ):\n",
    "                if j+1 < len(cards):\n",
    "                    sum_cards[i+(j+1)] += 1"
   ]
  },
  {
   "cell_type": "code",
   "execution_count": null,
   "metadata": {},
   "outputs": [],
   "source": [
    "sum_cards"
   ]
  },
  {
   "cell_type": "code",
   "execution_count": 29,
   "metadata": {},
   "outputs": [
    {
     "data": {
      "text/plain": [
       "5554894"
      ]
     },
     "execution_count": 29,
     "metadata": {},
     "output_type": "execute_result"
    }
   ],
   "source": [
    "res = 0 \n",
    "for sum_card in sum_cards:\n",
    "    res += sum_card\n",
    "res"
   ]
  }
 ],
 "metadata": {
  "kernelspec": {
   "display_name": "DeepKALE",
   "language": "python",
   "name": "python3"
  },
  "language_info": {
   "codemirror_mode": {
    "name": "ipython",
    "version": 3
   },
   "file_extension": ".py",
   "mimetype": "text/x-python",
   "name": "python",
   "nbconvert_exporter": "python",
   "pygments_lexer": "ipython3",
   "version": "3.11.4"
  }
 },
 "nbformat": 4,
 "nbformat_minor": 2
}
